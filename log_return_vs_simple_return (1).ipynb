{
 "cells": [
  {
   "cell_type": "markdown",
   "metadata": {},
   "source": [
    "***The following exercise is to convey how log return overpower simple returns.***\n",
    "\n",
    "In terms of single stock/assets price, log return over time, \n",
    "can significantly better vizualize the picture of\n",
    "continuous compounding compared to simple returns.\n",
    "\n",
    "<img src = \"https://images.unsplash.com/photo-1559589689-577aabd1db4f?ixlib=rb-1.2.1&ixid=eyJhcHBfaWQiOjEyMDd9&auto=format&fit=crop&w=1050&q=80.jpg\">\n"
   ]
  },
  {
   "cell_type": "code",
   "execution_count": 1,
   "metadata": {},
   "outputs": [],
   "source": [
    "\n",
    "import numpy as np\n"
   ]
  },
  {
   "cell_type": "code",
   "execution_count": 2,
   "metadata": {},
   "outputs": [],
   "source": [
    "#monthly stock price of Lincoln Pharma\n",
    "\n",
    "df = np.array([136.35,170.9,156.4,175,183.85,202.45,177.55,91.35,138.8,157.5,171.1,184.3,245.2])"
   ]
  },
  {
   "cell_type": "code",
   "execution_count": 3,
   "metadata": {
    "scrolled": false
   },
   "outputs": [
    {
     "data": {
      "text/plain": [
       "array([136.35, 170.9 , 156.4 , 175.  , 183.85, 202.45, 177.55,  91.35,\n",
       "       138.8 , 157.5 , 171.1 , 184.3 , 245.2 ])"
      ]
     },
     "execution_count": 3,
     "metadata": {},
     "output_type": "execute_result"
    }
   ],
   "source": [
    "df"
   ]
  },
  {
   "cell_type": "code",
   "execution_count": 4,
   "metadata": {},
   "outputs": [],
   "source": [
    "#using helper function\n",
    "def display_as_percentage(val):\n",
    "  return '{:.1f}%'.format(val * 100)"
   ]
  },
  {
   "cell_type": "code",
   "execution_count": 5,
   "metadata": {},
   "outputs": [],
   "source": [
    "# BUilding my FUNCTIONS from scratch\n",
    "\n",
    "from math import log, sqrt\n",
    "\n",
    "# Calculate Log Return\n",
    "def calculate_log_return(start_price, end_price):\n",
    "  return log(end_price / start_price)\n",
    "\n",
    "# Calculate Variance\n",
    "def calculate_variance(dataset):\n",
    "  mean = sum(dataset) / len(dataset)\n",
    "\n",
    "  numerator = 0\n",
    "\n",
    "  for data in dataset:\n",
    "    numerator += (data - mean) ** 2\n",
    "\n",
    "  return numerator / len(dataset)\n",
    "\n",
    "# Calculate Standard Deviation\n",
    "def calculate_stddev(dataset):\n",
    "  variance = calculate_variance(dataset)\n",
    "  return sqrt(variance)\n",
    "\n"
   ]
  },
  {
   "cell_type": "code",
   "execution_count": 6,
   "metadata": {},
   "outputs": [],
   "source": [
    "# making a for loop to fetch me log rates out of simple rates\n",
    "\n",
    "def get_returns(prices):\n",
    "  returns = list()\n",
    "  for i in range(len(prices) - 1):\n",
    "    start_price = prices[i]\n",
    "    end_price = prices[i + 1]\n",
    "    rate = calculate_log_return(start_price, end_price)\n",
    "    returns.append(rate)\n",
    "  return returns"
   ]
  },
  {
   "cell_type": "code",
   "execution_count": 7,
   "metadata": {},
   "outputs": [],
   "source": [
    "lincoln_returns = get_returns(df)"
   ]
  },
  {
   "cell_type": "code",
   "execution_count": 8,
   "metadata": {},
   "outputs": [],
   "source": [
    "lincoln_returns_prcnt = [display_as_percentage(df) for df in lincoln_returns]"
   ]
  },
  {
   "cell_type": "code",
   "execution_count": 9,
   "metadata": {},
   "outputs": [
    {
     "data": {
      "text/plain": [
       "['22.6%',\n",
       " '-8.9%',\n",
       " '11.2%',\n",
       " '4.9%',\n",
       " '9.6%',\n",
       " '-13.1%',\n",
       " '-66.5%',\n",
       " '41.8%',\n",
       " '12.6%',\n",
       " '8.3%',\n",
       " '7.4%',\n",
       " '28.6%']"
      ]
     },
     "execution_count": 9,
     "metadata": {},
     "output_type": "execute_result"
    }
   ],
   "source": [
    "lincoln_returns_prcnt"
   ]
  },
  {
   "cell_type": "code",
   "execution_count": 10,
   "metadata": {},
   "outputs": [],
   "source": [
    "lincoln_returns_prcnt_sum = sum(lincoln_returns)"
   ]
  },
  {
   "cell_type": "code",
   "execution_count": 11,
   "metadata": {},
   "outputs": [
    {
     "name": "stdout",
     "output_type": "stream",
     "text": [
      "annual return of lincoln pharma is 58.7%\n"
     ]
    }
   ],
   "source": [
    "print('annual return of lincoln pharma is', display_as_percentage(lincoln_returns_prcnt_sum))"
   ]
  },
  {
   "cell_type": "code",
   "execution_count": 12,
   "metadata": {},
   "outputs": [
    {
     "name": "stdout",
     "output_type": "stream",
     "text": [
      "variance in lincoln pharma stock is 6.7%\n"
     ]
    }
   ],
   "source": [
    "lincoln_var = calculate_variance(lincoln_returns)\n",
    "print('variance in lincoln pharma stock is', display_as_percentage(lincoln_var))"
   ]
  },
  {
   "cell_type": "code",
   "execution_count": 13,
   "metadata": {},
   "outputs": [
    {
     "name": "stdout",
     "output_type": "stream",
     "text": [
      "stddev in lincoln pharma stock is 25.8%\n"
     ]
    }
   ],
   "source": [
    "lincoln_std = calculate_stddev(lincoln_returns)\n",
    "print('stddev in lincoln pharma stock is', display_as_percentage(lincoln_std))"
   ]
  },
  {
   "cell_type": "markdown",
   "metadata": {},
   "source": [
    "## Well, we have finally analysed a single stock price over a time period\n",
    "\n",
    "                                        ***END***"
   ]
  }
 ],
 "metadata": {
  "kernelspec": {
   "display_name": "Python 3",
   "language": "python",
   "name": "python3"
  },
  "language_info": {
   "codemirror_mode": {
    "name": "ipython",
    "version": 3
   },
   "file_extension": ".py",
   "mimetype": "text/x-python",
   "name": "python",
   "nbconvert_exporter": "python",
   "pygments_lexer": "ipython3",
   "version": "3.7.6"
  }
 },
 "nbformat": 4,
 "nbformat_minor": 4
}
